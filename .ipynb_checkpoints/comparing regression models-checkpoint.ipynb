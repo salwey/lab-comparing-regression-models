{
 "cells": [
  {
   "cell_type": "markdown",
   "id": "a7b26bf8-73fc-4112-921d-236bd16b2450",
   "metadata": {},
   "source": [
    "# Comparing regression models"
   ]
  },
  {
   "cell_type": "markdown",
   "id": "98b1dfc3-227b-49b4-8733-117bd75d8363",
   "metadata": {},
   "source": [
    "For this lab, we will be using the same dataset we used in the previous labs. We recommend using the same notebook since you will be reusing the same variables you previous created and used in labs.\n",
    "\n",
    "**Instructions**\n",
    "1. [In this final lab, we will model our data. Import sklearn train_test_split and separate the data.](#1.)\n",
    "2. [Try a simple linear regression with all the data to see whether we are getting good results.](#2.)\n",
    "3. [Great! Now define a function that takes a list of models and train (and tests) them so we can try a lot of them without repeating code.](#3.)\n",
    "4. [Use the function to check LinearRegressor and KNeighborsRegressor.](#4.)\n",
    "5. [You can check also the MLPRegressor for this task!](#5.)\n",
    "6. [Check and discuss the results.](#6.)"
   ]
  },
  {
   "cell_type": "markdown",
   "id": "42f02a82-cc74-4638-9760-4ac8f6ba7ec0",
   "metadata": {
    "tags": []
   },
   "source": [
    "## Imports"
   ]
  },
  {
   "cell_type": "code",
   "execution_count": 12,
   "id": "bbdc4904-96bb-43f9-b8c3-9b7371b96fa8",
   "metadata": {},
   "outputs": [],
   "source": [
    "import pandas as pd\n",
    "import numpy as np\n",
    "import seaborn as sns\n",
    "import matplotlib.pyplot as plt\n",
    "import math\n",
    "import datetime\n",
    "\n",
    "from sklearn import linear_model\n",
    "from sklearn.neighbors import KNeighborsRegressor, KNeighborsClassifier\n",
    "from sklearn.neural_network import MLPRegressor\n",
    "from sklearn.metrics import mean_squared_error as unkind_squared_error, r2_score\n",
    "from scipy import stats\n",
    "#from sklearn.preprocessing import MinMaxScaler\n",
    "#from sklearn.preprocessing import StandardScaler\n",
    "#from sklearn.preprocessing import OneHotEncoder, LabelEncoder\n",
    "#from sklearn.model_selection import train_test_split\n",
    "\n",
    "import pickle"
   ]
  },
  {
   "cell_type": "markdown",
   "id": "a74b5f6f-a99e-40ef-83bb-62308f9d4045",
   "metadata": {},
   "source": [
    "## 1."
   ]
  },
  {
   "cell_type": "code",
   "execution_count": 29,
   "id": "a4b3e84f-b45a-4c26-9d8a-09864350f459",
   "metadata": {},
   "outputs": [],
   "source": [
    "X_test = pd.read_pickle('files_for_lab/xtest.p')\n",
    "y_test = pd.read_pickle('files_for_lab/ytest.p')\n",
    "X_train = pd.read_pickle('files_for_lab/xtrain.p')\n",
    "y_train = pd.read_pickle('files_for_lab/ytrain.p')"
   ]
  },
  {
   "cell_type": "markdown",
   "id": "25d0aace-45d9-425e-bce3-b43c4501e3a5",
   "metadata": {},
   "source": [
    "## 2."
   ]
  },
  {
   "cell_type": "code",
   "execution_count": 7,
   "id": "3c74e3dd-642d-4124-94dc-d428f0ecb102",
   "metadata": {},
   "outputs": [
    {
     "name": "stdout",
     "output_type": "stream",
     "text": [
      "--- training data ---\n",
      "R2:   0.7432852292962266\n",
      "\n",
      "--- test data ---\n",
      "R2:       0.7427329269707335\n",
      "MSE:      18630.93472808426\n",
      "RMSE/MAE: 136.49518206912748\n"
     ]
    }
   ],
   "source": [
    "lm = linear_model.LinearRegression()\n",
    "model = lm.fit(X_train,y_train)\n",
    "\n",
    "predictions_train = lm.predict(X_train)\n",
    "predictions_test = lm.predict(X_test)\n",
    "\n",
    "# show performance\n",
    "#if putout:\n",
    "print('--- training data ---')\n",
    "print('R2:   ' + str(r2_score(y_train, predictions_train)))\n",
    "print()\n",
    "print('--- test data ---')\n",
    "print('R2:       ' + str(r2_score(y_test, predictions_test)))\n",
    "print('MSE:      ' + str(unkind_squared_error(y_test,predictions_test)))\n",
    "print('RMSE/MAE: ' + str(np.sqrt(unkind_squared_error(y_test,predictions_test))))"
   ]
  },
  {
   "cell_type": "markdown",
   "id": "58909fff-a941-4372-a514-3680434f8de1",
   "metadata": {},
   "source": [
    "## 3. "
   ]
  },
  {
   "cell_type": "code",
   "execution_count": 24,
   "id": "b93d83ee-3ed0-4ed7-8589-1f09bce6c7d3",
   "metadata": {},
   "outputs": [],
   "source": [
    "def model_this(models, X_train, y_train, X_test, y_test):\n",
    "    for m in models:\n",
    "        model = m.fit(X_train,y_train)\n",
    "\n",
    "        predictions_train = m.predict(X_train)\n",
    "        predictions_test = m.predict(X_test)\n",
    "\n",
    "        # show performance\n",
    "        #if putout:\n",
    "        print('--- training data ---')\n",
    "        print('R2:   ' + str(r2_score(y_train, predictions_train)))\n",
    "        print()\n",
    "        print('--- test data ---')\n",
    "        print('R2:       ' + str(r2_score(y_test, predictions_test)))\n",
    "        print('MSE:      ' + str(unkind_squared_error(y_test,predictions_test)))\n",
    "        print('RMSE/MAE: ' + str(np.sqrt(unkind_squared_error(y_test,predictions_test))))\n"
   ]
  },
  {
   "cell_type": "code",
   "execution_count": 22,
   "id": "48b3c512-a674-47ce-b59a-77e40bc65a7d",
   "metadata": {},
   "outputs": [],
   "source": [
    "KNR = KNeighborsRegressor(n_neighbors=6)\n",
    "lm = linear_model.LinearRegression()\n",
    "MLP = MLPRegressor()\n",
    "\n",
    "models = []\n",
    "models.extend([lm, KNR, MLP])"
   ]
  },
  {
   "cell_type": "code",
   "execution_count": 25,
   "id": "4b7765b8-694c-4aed-8675-30e226a5edaa",
   "metadata": {},
   "outputs": [
    {
     "name": "stdout",
     "output_type": "stream",
     "text": [
      "--- training data ---\n",
      "R2:   0.7432852292962266\n",
      "\n",
      "--- test data ---\n",
      "R2:       0.7427329269707335\n",
      "MSE:      18630.93472808426\n",
      "RMSE/MAE: 136.49518206912748\n"
     ]
    },
    {
     "name": "stderr",
     "output_type": "stream",
     "text": [
      "c:\\users\\andy\\appdata\\local\\programs\\python\\python39\\lib\\site-packages\\sklearn\\base.py:441: UserWarning: X does not have valid feature names, but KNeighborsRegressor was fitted with feature names\n",
      "  warnings.warn(\n",
      "c:\\users\\andy\\appdata\\local\\programs\\python\\python39\\lib\\site-packages\\sklearn\\base.py:441: UserWarning: X does not have valid feature names, but KNeighborsRegressor was fitted with feature names\n",
      "  warnings.warn(\n"
     ]
    },
    {
     "name": "stdout",
     "output_type": "stream",
     "text": [
      "--- training data ---\n",
      "R2:   0.7192365884372869\n",
      "\n",
      "--- test data ---\n",
      "R2:       0.6017210005427133\n",
      "MSE:      28842.82840817054\n",
      "RMSE/MAE: 169.8317650151777\n"
     ]
    },
    {
     "name": "stderr",
     "output_type": "stream",
     "text": [
      "c:\\users\\andy\\appdata\\local\\programs\\python\\python39\\lib\\site-packages\\sklearn\\neural_network\\_multilayer_perceptron.py:1599: DataConversionWarning: A column-vector y was passed when a 1d array was expected. Please change the shape of y to (n_samples, ), for example using ravel().\n",
      "  y = column_or_1d(y, warn=True)\n"
     ]
    },
    {
     "name": "stdout",
     "output_type": "stream",
     "text": [
      "--- training data ---\n",
      "R2:   0.7660796567072246\n",
      "\n",
      "--- test data ---\n",
      "R2:       0.7585458682468512\n",
      "MSE:      17485.782830853845\n",
      "RMSE/MAE: 132.23381878647325\n"
     ]
    },
    {
     "name": "stderr",
     "output_type": "stream",
     "text": [
      "c:\\users\\andy\\appdata\\local\\programs\\python\\python39\\lib\\site-packages\\sklearn\\neural_network\\_multilayer_perceptron.py:692: ConvergenceWarning: Stochastic Optimizer: Maximum iterations (200) reached and the optimization hasn't converged yet.\n",
      "  warnings.warn(\n"
     ]
    }
   ],
   "source": [
    "model_this(models, X_train, y_train, X_test, y_test)"
   ]
  },
  {
   "cell_type": "markdown",
   "id": "2712f13d-90cc-456e-a50c-abdf17577cff",
   "metadata": {},
   "source": [
    "So in the data as we have it we are getting best results from the MLP regressor. Though classmates in breakout have varying results with others regressors performing better or more variance in their scores.\n",
    "\n",
    "I feel there is possible some steps I could change up still in the cleaning to improve the scores and also try to optimise the hpyer parameters used here."
   ]
  }
 ],
 "metadata": {
  "kernelspec": {
   "display_name": "Python 3 (ipykernel)",
   "language": "python",
   "name": "python3"
  },
  "language_info": {
   "codemirror_mode": {
    "name": "ipython",
    "version": 3
   },
   "file_extension": ".py",
   "mimetype": "text/x-python",
   "name": "python",
   "nbconvert_exporter": "python",
   "pygments_lexer": "ipython3",
   "version": "3.9.6"
  }
 },
 "nbformat": 4,
 "nbformat_minor": 5
}
